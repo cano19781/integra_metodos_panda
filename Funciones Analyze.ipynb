{
 "cells": [
  {
   "cell_type": "markdown",
   "id": "77323567",
   "metadata": {},
   "source": [
    "## Crear funciones para integrar los metodos de Pandas"
   ]
  },
  {
   "cell_type": "markdown",
   "id": "c5feee48",
   "metadata": {},
   "source": [
    "![Descripción de la imagen](https://cano19781.github.io/infovis/img_analyze.jpeg)"
   ]
  },
  {
   "cell_type": "code",
   "execution_count": 2,
   "id": "5ba15c6d",
   "metadata": {},
   "outputs": [],
   "source": [
    "import pandas as pd"
   ]
  },
  {
   "cell_type": "code",
   "execution_count": 18,
   "id": "92e4a9b8",
   "metadata": {},
   "outputs": [
    {
     "name": "stdout",
     "output_type": "stream",
     "text": [
      "/Users/rogherrera/Documents/Desarrollo/Python/Datos/TablaEjemplo.csv\n",
      "\n",
      "\n",
      "  Nombre  Edad       País Automovil\n",
      "0   Juan    35     México        No\n",
      "1  Pedro    41     España        Si\n",
      "2  María    28       Perú        Si\n",
      "3  Laura    66  Argentina        No\n",
      "\n",
      "\n",
      "  Nombre  Edad    País Automovil\n",
      "0   Juan    35  México        No\n",
      "1  Pedro    41  España        Si\n",
      "\n",
      "\n",
      "  Nombre  Edad       País Automovil\n",
      "3  Laura    66  Argentina        No\n",
      "\n",
      "\n",
      "Index(['Nombre', 'Edad', 'País', 'Automovil'], dtype='object')\n",
      "\n",
      "\n",
      "(4, 4)\n",
      "\n",
      "\n",
      "[[<AxesSubplot:title={'center':'Edad'}>]]\n",
      "\n",
      "\n",
      "            Edad\n",
      "count   4.000000\n",
      "mean   42.500000\n",
      "std    16.542874\n",
      "min    28.000000\n",
      "25%    33.250000\n",
      "50%    38.000000\n",
      "75%    47.250000\n",
      "max    66.000000\n",
      "\n",
      "\n"
     ]
    },
    {
     "data": {
      "image/png": "[encoded data removed]",
      "text/plain": [
       "<Figure size 432x288 with 1 Axes>"
      ]
     },
     "metadata": {
      "needs_background": "light"
     },
     "output_type": "display_data"
    }
   ],
   "source": [
    "class Analyze():\n",
    "    def __init__(self, input_path):\n",
    "        self.input_path = input_path\n",
    "        print(self.input_path)\n",
    "        print(\"\\n\")\n",
    "        \n",
    "# Ejemplo de cargar csv     \n",
    "    def read_data(self):\n",
    "        self.df_init = pd.read_csv(self.input_path)\n",
    "        print(self.df_init)\n",
    "        print(\"\\n\")\n",
    "        \n",
    "# Ejemplo de head     \n",
    "    def step1(self):\n",
    "        self.df1 = self.df_init.head(2)\n",
    "        print(self.df1)\n",
    "        print(\"\\n\")\n",
    "        \n",
    "# Ejemplo de tail \n",
    "    def step_tail(self):\n",
    "        self.df2 = self.df_init.tail(1)\n",
    "        print(self.df2)\n",
    "        print(\"\\n\")\n",
    "        \n",
    "# Ejemplo de obtener columns \n",
    "    def step_columns(self):\n",
    "        self.df3 = self.df_init.columns\n",
    "        print(self.df3)\n",
    "        print(\"\\n\")\n",
    "        \n",
    "# Ejemplo de obtener cantidad de columnas y filas \n",
    "    def step_shape(self):\n",
    "        self.df4 = self.df_init.shape\n",
    "        print(self.df4)\n",
    "        print(\"\\n\")\n",
    "        \n",
    "# Ejemplo de obtener un histograma ddel dataframe\n",
    "    def step_hist(self):\n",
    "        self.df5 = self.df_init.hist()\n",
    "        print(self.df5)\n",
    "        print(\"\\n\")\n",
    "        \n",
    "# Ejemplo de obtener un describe\n",
    "    def step_describe(self):\n",
    "        self.df5 = self.df_init.describe()\n",
    "        print(self.df5)\n",
    "        print(\"\\n\")\n",
    "        \n",
    "\n",
    "# Correr todas las funciones       \n",
    "    def run_all(self):\n",
    "        self.read_data()\n",
    "        self.step1()\n",
    "        self.step_tail()\n",
    "        self.step_columns()\n",
    "        self.step_shape()\n",
    "        self.step_hist()\n",
    "        self.step_describe()\n",
    "\n",
    "           \n",
    "analyze = Analyze('/Users/rogherrera/Documents/Desarrollo/Python/Datos/TablaEjemplo.csv')\n",
    "analyze.run_all()"
   ]
  },
  {
   "cell_type": "code",
   "execution_count": null,
   "id": "1ee79a6b",
   "metadata": {},
   "outputs": [],
   "source": []
  }
 ],
 "metadata": {
  "kernelspec": {
   "display_name": "Python 3 (ipykernel)",
   "language": "python",
   "name": "python3"
  },
  "language_info": {
   "codemirror_mode": {
    "name": "ipython",
    "version": 3
   },
   "file_extension": ".py",
   "mimetype": "text/x-python",
   "name": "python",
   "nbconvert_exporter": "python",
   "pygments_lexer": "ipython3",
   "version": "3.9.12"
  }
 },
 "nbformat": 4,
 "nbformat_minor": 5
}
